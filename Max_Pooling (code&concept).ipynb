{
 "cells": [
  {
   "cell_type": "markdown",
   "metadata": {},
   "source": [
    "### Pooling is use to reduce the size of features.\n",
    "### Pooling is used to increase the speed of computation.\n",
    "### To detect a feature in more robust way (sort of taking out the dominant pixels)\n",
    "\n",
    "### Pooling are of two types:-  \n",
    "### max poooling - maximim of the pixel is extracted \n",
    "### mean pooling- this is used when we want to take the mean of all the pixels we have in the filter space.\n",
    "### Pooling has NO PARAMETERS to learn and has only hyper-paramters to tune so nothing can be done using Gradiant Descent. \n",
    "### Once we fixed f & s it is just a fixed computation.\n",
    "### If the image is colored then the same operation is performed on all the channels.\n",
    "### Max Pooling is most widely used \n",
    "### padding is rarely used with pooling.\n",
    "### f=2 & s=2 is the most used value of these hyper parameters from several research papers."
   ]
  },
  {
   "cell_type": "code",
   "execution_count": 1,
   "metadata": {},
   "outputs": [],
   "source": [
    "import numpy as np \n",
    "from keras.models import Sequential \n",
    "from keras.layers import MaxPooling2D "
   ]
  },
  {
   "cell_type": "code",
   "execution_count": 2,
   "metadata": {},
   "outputs": [],
   "source": [
    "# define input image \n",
    "image = np.array([[2, 2, 7, 3], \n",
    "                  [9, 4, 6, 1], \n",
    "                  [8, 5, 2, 4], \n",
    "                  [3, 1, 2, 6]]) \n",
    "image = image.reshape(1, 4, 4, 1) "
   ]
  },
  {
   "cell_type": "code",
   "execution_count": 6,
   "metadata": {},
   "outputs": [],
   "source": [
    "# define model containing just a single max pooling layer \n",
    "model = Sequential( \n",
    "    [MaxPooling2D(pool_size = 2, strides = 1)]) "
   ]
  },
  {
   "cell_type": "code",
   "execution_count": 7,
   "metadata": {},
   "outputs": [],
   "source": [
    "# generate pooled output \n",
    "output = model.predict(image) "
   ]
  },
  {
   "cell_type": "code",
   "execution_count": 8,
   "metadata": {},
   "outputs": [
    {
     "name": "stdout",
     "output_type": "stream",
     "text": [
      "[[9 7 7]\n",
      " [9 6 6]\n",
      " [8 5 6]]\n"
     ]
    }
   ],
   "source": [
    "# print output image \n",
    "output = np.squeeze(output) \n",
    "print(output) "
   ]
  },
  {
   "cell_type": "code",
   "execution_count": null,
   "metadata": {},
   "outputs": [],
   "source": []
  }
 ],
 "metadata": {
  "kernelspec": {
   "display_name": "Python 3",
   "language": "python",
   "name": "python3"
  },
  "language_info": {
   "codemirror_mode": {
    "name": "ipython",
    "version": 3
   },
   "file_extension": ".py",
   "mimetype": "text/x-python",
   "name": "python",
   "nbconvert_exporter": "python",
   "pygments_lexer": "ipython3",
   "version": "3.7.4"
  }
 },
 "nbformat": 4,
 "nbformat_minor": 2
}
