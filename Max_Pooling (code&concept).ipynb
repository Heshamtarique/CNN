{
 "cells": [
  {
   "cell_type": "markdown",
   "metadata": {},
   "source": [
    "### Pooling is use to reduce the size of features.\n",
    "### Pooling is used to increase the speed of computation.\n",
    "### To detect a feature in more robust way (sort of taking out the dominant pixels)\n",
    "\n",
    "### Pooling are of two types:-  \n",
    "### max poooling - maximim of the pixel is extracted \n",
    "### mean pooling- this is used when we want to take the mean of all the pixels we have in the filter space.\n",
    "### Pooling has NO PARAMETERS to learn and has only hyper-paramters to tune so nothing can be done using Gradiant Descent. \n",
    "### Once we fixed f & s it is just a fixed computation.\n",
    "### If the image is colored then the same operation is performed on all the channels.\n",
    "### Max Pooling is most widely used \n",
    "### padding is rarely used with pooling.\n",
    "### f=2 & s=2 is the most used value of these hyper parameters from several research papers."
   ]
  },
  {
   "cell_type": "code",
   "execution_count": 9,
   "metadata": {},
   "outputs": [],
   "source": [
    "from numpy import asarray\n",
    "from keras.models import Sequential\n",
    "from keras.layers import Conv2D\n"
   ]
  },
  {
   "cell_type": "code",
   "execution_count": 10,
   "metadata": {},
   "outputs": [],
   "source": [
    "# define input data\n",
    "data = [[0, 0, 0, 1, 1, 0, 0, 0],\n",
    "[0, 0, 0, 1, 1, 0, 0, 0],\n",
    "[0, 0, 0, 1, 1, 0, 0, 0],\n",
    "[0, 0, 0, 1, 1, 0, 0, 0],\n",
    "[0, 0, 0, 1, 1, 0, 0, 0],\n",
    "[0, 0, 0, 1, 1, 0, 0, 0],\n",
    "[0, 0, 0, 1, 1, 0, 0, 0],\n",
    "[0, 0, 0, 1, 1, 0, 0, 0]]\n",
    "data = asarray(data)\n",
    "data = data.reshape(1, 8, 8, 1)\n"
   ]
  },
  {
   "cell_type": "code",
   "execution_count": 12,
   "metadata": {},
   "outputs": [
    {
     "name": "stdout",
     "output_type": "stream",
     "text": [
      "Model: \"sequential_3\"\n",
      "_________________________________________________________________\n",
      "Layer (type)                 Output Shape              Param #   \n",
      "=================================================================\n",
      "conv2d_1 (Conv2D)            (None, 6, 6, 1)           10        \n",
      "_________________________________________________________________\n",
      "max_pooling2d_2 (MaxPooling2 (None, 3, 3, 1)           0         \n",
      "=================================================================\n",
      "Total params: 10\n",
      "Trainable params: 10\n",
      "Non-trainable params: 0\n",
      "_________________________________________________________________\n"
     ]
    }
   ],
   "source": [
    "# create model\n",
    "model = Sequential()\n",
    "model.add(Conv2D(1, (3,3), activation='relu', input_shape=(8, 8, 1)))\n",
    "model.add(MaxPooling2D())\n",
    "# summarize model\n",
    "model.summary()\n"
   ]
  },
  {
   "cell_type": "code",
   "execution_count": 13,
   "metadata": {},
   "outputs": [
    {
     "name": "stdout",
     "output_type": "stream",
     "text": [
      "[0.0, 3.0, 0.0]\n",
      "[0.0, 3.0, 0.0]\n",
      "[0.0, 3.0, 0.0]\n"
     ]
    }
   ],
   "source": [
    "# define a vertical line detector\n",
    "detector = [[[[0]],[[1]],[[0]]],\n",
    "            [[[0]],[[1]],[[0]]],\n",
    "            [[[0]],[[1]],[[0]]]]\n",
    "weights = [asarray(detector), asarray([0.0])]\n",
    "# store the weights in the model\n",
    "model.set_weights(weights)\n",
    "# apply filter to input data\n",
    "yhat = model.predict(data)\n",
    "# enumerate rows\n",
    "for r in range(yhat.shape[1]):\n",
    "\t# print each column in the row\n",
    "\tprint([yhat[0,r,c,0] for c in range(yhat.shape[2])])"
   ]
  },
  {
   "cell_type": "code",
   "execution_count": null,
   "metadata": {},
   "outputs": [],
   "source": []
  }
 ],
 "metadata": {
  "kernelspec": {
   "display_name": "Python 3",
   "language": "python",
   "name": "python3"
  },
  "language_info": {
   "codemirror_mode": {
    "name": "ipython",
    "version": 3
   },
   "file_extension": ".py",
   "mimetype": "text/x-python",
   "name": "python",
   "nbconvert_exporter": "python",
   "pygments_lexer": "ipython3",
   "version": "3.7.4"
  }
 },
 "nbformat": 4,
 "nbformat_minor": 2
}
