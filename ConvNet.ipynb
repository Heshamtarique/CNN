{
 "cells": [
  {
   "cell_type": "markdown",
   "metadata": {},
   "source": [
    "### we are going to use a framework called TensorFlow and Keras. \n",
    "### Here we are going to see that how CNN classify an image so precisely which cant be done by ANN.\n",
    "### if we would have used ANN for a larger image(not just hand written image detection) then we will end up with millions of parameters to be learnt. so to decrese computation(space as well as time) we use CNN. Another downside with ANN was that it treat local pixels same as pixels far apart & it is sensative to location of an object in an image.\n",
    "#### - \n",
    "### since our data is sequential so we will use sequential model.\n",
    "### from tensorflow ew have imported Dense as we will use fully connected layer after the covolutional layer operations will be over.\n",
    "### if we have lots of parameters to learn then in that case we need to use drop-out which basically shuts some the randomly picked neurons. dropout is generally a good idea if we are facing an OVERFITTING(high variance case) condition. the value of dropout is manually entred and its a hit and trail method to find the optimum value.\n",
    "#### -------\n",
    "### after dropout we have imported activation - This plays a major role in any of the deep learning structure. It generally varies from problem to problem. If we have binary classification problem then we use Sigmoid as our activation function (sigmoid has an issue of VANISHING GARADIANT we have relatively okay result in the range of -3 to +3).... Sign function is also used but the gradiant in sign function vanishes everywhere. if we have classes i-e greater than two (say k classes) then for this we use Softmax function.  To overcome this issue of vanishing gradiant problem researchers come up with ReLu (Rectified Linear Unit  max(o,y)). this solves the problem of vanishing gradiant. There is one more activation function which gives some weightage to the negative values as opposed to ReLu which map negatives to zero. As we know that is 2D so we will use flatten command to make a one dimensional vector (to feed it to the nueral network). \n",
    "\n",
    "### now we imported Conv2D--  this will allow us to use 2 dimesional Convolutional Neural Network.\n",
    "## (A) .....why convolution layer is used???\n",
    "### Lets say we have a colored image of 1000x1000x3 then the number of input features will be 3Millions and we use 1000(say) number of hidden neurons then the WEIGHT MATRIX will be of dimension (1000, 3M) which is around 3Billions of parameters for the network to learn (think about the RAM requirement or what if the image is slightly large). \n",
    "### So we need to impliment CONVOLUTIONAL OPERATION  which is one of the most fundamental building block of CNN.  we apply this operation on the input image & FILTERS f (often called as KERNALS in research papers). Filters are basically used for detecting the edges such as vertical or horizontal edges. we can have several filters which can be used to detect edges at some angles. some of the basic filters we have seen is - vertical edges, horizontal edges, SOBEL filters(this gives weightage to the centre row so its a little bit robust filter), SHAW filter (this is sort of vertical filter but use high values). One thing to note is that all these filter's order is taken as odd(3x3, 5x5). Secondly, we dont choose the values in filter by ourselves.  Lastly, treating the values of the filter as PARAMETERS. we just consider them as parameters and the updation is done using BACK-PROPAGATION with a valid optimizer.  \n",
    "### we had DOWNSIDEs of using the convolution operation-- \n",
    "### 1) everytime we detect the edges the image shrinks which we dont want all the time (specially seen in case of large number of hidden layers)\n",
    "### 2) All the corner pixels in the input tensor is used only once. Whereas the pixel in the middle overlaps with so many regions of filters while calulation of output. So baisically we are loosing so many corner information. \n",
    "### To deal with these downsides researchers come up with PADDING (n+2p-f+1)---- adding rows and columns to the input tensor depending upon the requirement.\n",
    "### Padding is of two types- ------   (1) VALID (p=0)  (2) SAME (p=k - to make output size same as input). \n",
    "### STRIDE-  this is sort of jump we want to take while applying filter with conv operation.\n",
    "\n",
    "\n",
    "### the same concept is applied to the colored image (3 channels RGB)- just the tensor size will increase. And a thing to note is that the number of channels is same as number of fliter layers. i-e if RGB image say 39x39x3 then filter can be 3x3x3. \n",
    "\n",
    "## The steps followed here are- \n",
    "### convolutional operation is applied between input and filter (we can take any number of filter)\n",
    "### we get an output which can be of same dimension if we did padding else it will shrink\n",
    "### we apply a BIAS to the output which will be our final tensor.\n",
    "### we apply some sort of NON-LINEARITY (ReLu) to get the Y-hat.... cat or dog\n",
    "### NOTE: how big the image is we would have constant number of parameters in here---- if we have an image of size 3x3x3. this becomes 27 and a bias so total of 28 parameters. Say we have use 10 filters then we will have 280 PARAMETERS only (independent of size of image).  so we can say that this property makes it LESS PRONE TO OVER FITTING as opposed to simple neural network.\n",
    "## ----\n",
    "### so here we took a 39x39x3 size of image and conv it to 7x7x40 size which is equal to 1960. now this will be flatten to make a column vector to take as input to the neural network and finally it is fet to the logistic/softmax unit.\n",
    "### number of HYPERPARAMETERS are- \n",
    "### Filter size\n",
    "### Stride\n",
    "### Padding\n",
    "### Number of filters.\n",
    "\n",
    "### experiment shows that there is decrease in the image size and increase in channel size as we go on applying CONV. \n",
    "\n",
    "\n",
    "\n",
    "# -\n",
    "\n",
    "#### we can design pretty goood neural network using just convolutional layer but we found in most of the architectures we have pooling layer too.\n",
    "## (B) .... Why pooling layer is used  ........  [(n+2p-f)/s +1]\n",
    "#### To reduce the size of representation\n",
    "#### to increase the speed of computation\n",
    "#### To detect some features in a more robust way\n",
    "### it has two types --- Max pooling and mean/average pooling \n",
    "\n",
    "#### in max pooling we choose maximum pixwel in the space we overlap as we did with filter.\n",
    "#### in case of average pooling we take mean of all the pixel values.\n",
    "#### it has hyperparameters to tune BUT IT DONOT HAVE PARAMETERS TO LEARN. So once you fixed the size of f & s its a FIXED COMPUTATION and Gradiant Descent dont change anything.\n",
    "## (C) fully connected layer\n",
    "#### after getting the output as 5x5x16(say) we flatten this and feed to the neurons and now here fully connected layers comes into the picture. we can use hidden layers with our convience. and one output layer is considered. \n",
    "\n",
    "\n",
    "## Two advantages of using convolutional layer over just using fully connected layers are :- \n",
    "#### (1) PARAMETER SHARING :- number of parameters is reduced because of CONV layer and then it is fed to the fully connected layer easily.\n",
    "#### (2) SPARCITY IN CONNECTION  :- In each layer, every output depends only on a small portion of input. \n",
    "#### ---\n",
    "#### Because of less number of parameters now we are LESS PRONE TO OVERFITTING. \n",
    "#### as we have used weight matrix W and a bias b so we are going to define a COST FUNCTION to track the loss and by using Gradiant Descent or RMSProp or ADAM optimizer we cab optimize the prameteres to reduce J.\n",
    "\n",
    "\n",
    "#### Till here we looked at the building block of Convolutional Neural Network, later we will see some classical networks :- LeNet5, AlexNet & VGG. lastly we will explore ResNet which is specially used for deeep neural network 150 layers or more. \n",
    "\n",
    "\n",
    "\n",
    "\n",
    "\n",
    "\n",
    "\n",
    "\n",
    "\n",
    "\n",
    "\n",
    "\n",
    "\n"
   ]
  },
  {
   "cell_type": "code",
   "execution_count": 3,
   "metadata": {},
   "outputs": [],
   "source": [
    "from keras.models import Sequential\n",
    "from keras.layers import Dense, Conv2D, Flatten\n",
    "from keras.utils import to_categorical\n",
    "from keras.datasets import mnist\n",
    "import matplotlib.pyplot as plt\n",
    "import numpy as np"
   ]
  },
  {
   "cell_type": "markdown",
   "metadata": {},
   "source": [
    "#### sequential allow us to build an architecture for a Neural Network. we need to convert our data into catagorical to feed it into the model. the dataset we are using is MNIST. "
   ]
  },
  {
   "cell_type": "code",
   "execution_count": 5,
   "metadata": {},
   "outputs": [],
   "source": [
    "# loading the data and splitting into train and test tuples\n",
    "(X_train, y_train), (X_test, y_test) = mnist.load_data()"
   ]
  },
  {
   "cell_type": "code",
   "execution_count": 6,
   "metadata": {},
   "outputs": [
    {
     "name": "stdout",
     "output_type": "stream",
     "text": [
      "(60000, 28, 28)\n",
      "(10000, 28, 28)\n"
     ]
    }
   ],
   "source": [
    "print(X_train.shape)\n",
    "print(X_test.shape)\n",
    "# 60000 data or row of images which are 28x28 in training data"
   ]
  },
  {
   "cell_type": "code",
   "execution_count": 7,
   "metadata": {},
   "outputs": [
    {
     "data": {
      "text/plain": [
       "array([[  0,   0,   0,   0,   0,   0,   0,   0,   0,   0,   0,   0,   0,\n",
       "          0,   0,   0,   0,   0,   0,   0,   0,   0,   0,   0,   0,   0,\n",
       "          0,   0],\n",
       "       [  0,   0,   0,   0,   0,   0,   0,   0,   0,   0,   0,   0,   0,\n",
       "          0,   0,   0,   0,   0,   0,   0,   0,   0,   0,   0,   0,   0,\n",
       "          0,   0],\n",
       "       [  0,   0,   0,   0,   0,   0,   0,   0,   0,   0,   0,   0,   0,\n",
       "          0,   0,   0,   0,   0,   0,   0,   0,   0,   0,   0,   0,   0,\n",
       "          0,   0],\n",
       "       [  0,   0,   0,   0,   0,   0,   0,   0,   0,   0,   0,   0,   0,\n",
       "          0,   0,   0,   0,   0,   0,   0,   0,   0,   0,   0,   0,   0,\n",
       "          0,   0],\n",
       "       [  0,   0,   0,   0,   0,   0,   0,   0,   0,   0,   0,   0,   0,\n",
       "          0,   0,   0,   0,   0,   0,   0,   0,   0,   0,   0,   0,   0,\n",
       "          0,   0],\n",
       "       [  0,   0,   0,   0,   0,   0,   0,   0,   0,   0,   0,   0,   3,\n",
       "         18,  18,  18, 126, 136, 175,  26, 166, 255, 247, 127,   0,   0,\n",
       "          0,   0],\n",
       "       [  0,   0,   0,   0,   0,   0,   0,   0,  30,  36,  94, 154, 170,\n",
       "        253, 253, 253, 253, 253, 225, 172, 253, 242, 195,  64,   0,   0,\n",
       "          0,   0],\n",
       "       [  0,   0,   0,   0,   0,   0,   0,  49, 238, 253, 253, 253, 253,\n",
       "        253, 253, 253, 253, 251,  93,  82,  82,  56,  39,   0,   0,   0,\n",
       "          0,   0],\n",
       "       [  0,   0,   0,   0,   0,   0,   0,  18, 219, 253, 253, 253, 253,\n",
       "        253, 198, 182, 247, 241,   0,   0,   0,   0,   0,   0,   0,   0,\n",
       "          0,   0],\n",
       "       [  0,   0,   0,   0,   0,   0,   0,   0,  80, 156, 107, 253, 253,\n",
       "        205,  11,   0,  43, 154,   0,   0,   0,   0,   0,   0,   0,   0,\n",
       "          0,   0],\n",
       "       [  0,   0,   0,   0,   0,   0,   0,   0,   0,  14,   1, 154, 253,\n",
       "         90,   0,   0,   0,   0,   0,   0,   0,   0,   0,   0,   0,   0,\n",
       "          0,   0],\n",
       "       [  0,   0,   0,   0,   0,   0,   0,   0,   0,   0,   0, 139, 253,\n",
       "        190,   2,   0,   0,   0,   0,   0,   0,   0,   0,   0,   0,   0,\n",
       "          0,   0],\n",
       "       [  0,   0,   0,   0,   0,   0,   0,   0,   0,   0,   0,  11, 190,\n",
       "        253,  70,   0,   0,   0,   0,   0,   0,   0,   0,   0,   0,   0,\n",
       "          0,   0],\n",
       "       [  0,   0,   0,   0,   0,   0,   0,   0,   0,   0,   0,   0,  35,\n",
       "        241, 225, 160, 108,   1,   0,   0,   0,   0,   0,   0,   0,   0,\n",
       "          0,   0],\n",
       "       [  0,   0,   0,   0,   0,   0,   0,   0,   0,   0,   0,   0,   0,\n",
       "         81, 240, 253, 253, 119,  25,   0,   0,   0,   0,   0,   0,   0,\n",
       "          0,   0],\n",
       "       [  0,   0,   0,   0,   0,   0,   0,   0,   0,   0,   0,   0,   0,\n",
       "          0,  45, 186, 253, 253, 150,  27,   0,   0,   0,   0,   0,   0,\n",
       "          0,   0],\n",
       "       [  0,   0,   0,   0,   0,   0,   0,   0,   0,   0,   0,   0,   0,\n",
       "          0,   0,  16,  93, 252, 253, 187,   0,   0,   0,   0,   0,   0,\n",
       "          0,   0],\n",
       "       [  0,   0,   0,   0,   0,   0,   0,   0,   0,   0,   0,   0,   0,\n",
       "          0,   0,   0,   0, 249, 253, 249,  64,   0,   0,   0,   0,   0,\n",
       "          0,   0],\n",
       "       [  0,   0,   0,   0,   0,   0,   0,   0,   0,   0,   0,   0,   0,\n",
       "          0,  46, 130, 183, 253, 253, 207,   2,   0,   0,   0,   0,   0,\n",
       "          0,   0],\n",
       "       [  0,   0,   0,   0,   0,   0,   0,   0,   0,   0,   0,   0,  39,\n",
       "        148, 229, 253, 253, 253, 250, 182,   0,   0,   0,   0,   0,   0,\n",
       "          0,   0],\n",
       "       [  0,   0,   0,   0,   0,   0,   0,   0,   0,   0,  24, 114, 221,\n",
       "        253, 253, 253, 253, 201,  78,   0,   0,   0,   0,   0,   0,   0,\n",
       "          0,   0],\n",
       "       [  0,   0,   0,   0,   0,   0,   0,   0,  23,  66, 213, 253, 253,\n",
       "        253, 253, 198,  81,   2,   0,   0,   0,   0,   0,   0,   0,   0,\n",
       "          0,   0],\n",
       "       [  0,   0,   0,   0,   0,   0,  18, 171, 219, 253, 253, 253, 253,\n",
       "        195,  80,   9,   0,   0,   0,   0,   0,   0,   0,   0,   0,   0,\n",
       "          0,   0],\n",
       "       [  0,   0,   0,   0,  55, 172, 226, 253, 253, 253, 253, 244, 133,\n",
       "         11,   0,   0,   0,   0,   0,   0,   0,   0,   0,   0,   0,   0,\n",
       "          0,   0],\n",
       "       [  0,   0,   0,   0, 136, 253, 253, 253, 212, 135, 132,  16,   0,\n",
       "          0,   0,   0,   0,   0,   0,   0,   0,   0,   0,   0,   0,   0,\n",
       "          0,   0],\n",
       "       [  0,   0,   0,   0,   0,   0,   0,   0,   0,   0,   0,   0,   0,\n",
       "          0,   0,   0,   0,   0,   0,   0,   0,   0,   0,   0,   0,   0,\n",
       "          0,   0],\n",
       "       [  0,   0,   0,   0,   0,   0,   0,   0,   0,   0,   0,   0,   0,\n",
       "          0,   0,   0,   0,   0,   0,   0,   0,   0,   0,   0,   0,   0,\n",
       "          0,   0],\n",
       "       [  0,   0,   0,   0,   0,   0,   0,   0,   0,   0,   0,   0,   0,\n",
       "          0,   0,   0,   0,   0,   0,   0,   0,   0,   0,   0,   0,   0,\n",
       "          0,   0]], dtype=uint8)"
      ]
     },
     "execution_count": 7,
     "metadata": {},
     "output_type": "execute_result"
    }
   ],
   "source": [
    "# lets see the image at the 1st index in training data\n",
    "X_train[0]\n",
    "# here we can see the maximum pixel is 255 and least is zero. \n",
    "# numpy array - pixle value is given "
   ]
  },
  {
   "cell_type": "code",
   "execution_count": 8,
   "metadata": {},
   "outputs": [
    {
     "data": {
      "text/plain": [
       "5"
      ]
     },
     "execution_count": 8,
     "metadata": {},
     "output_type": "execute_result"
    }
   ],
   "source": [
    "# printing the label of image   so the above numpy array represent 5\n",
    "y_train[0]"
   ]
  },
  {
   "cell_type": "code",
   "execution_count": 9,
   "metadata": {},
   "outputs": [
    {
     "data": {
      "text/plain": [
       "<matplotlib.image.AxesImage at 0x7ffcc136a790>"
      ]
     },
     "execution_count": 9,
     "metadata": {},
     "output_type": "execute_result"
    },
    {
     "data": {
      "image/png": "[encoded data removed]",
      "text/plain": [
       "<Figure size 432x288 with 1 Axes>"
      ]
     },
     "metadata": {
      "needs_background": "light"
     },
     "output_type": "display_data"
    }
   ],
   "source": [
    "# lets print the image-- we get a 28x28 image of digit 5\n",
    "plt.imshow(X_train[0])"
   ]
  },
  {
   "cell_type": "code",
   "execution_count": 10,
   "metadata": {},
   "outputs": [],
   "source": [
    "# reshaping the data of X  -- 1 represent grey scale \n",
    "X_train  = X_train.reshape(60000,28,28,1)\n",
    "\n",
    "X_test  = X_test.reshape(10000,28,28,1)"
   ]
  },
  {
   "cell_type": "code",
   "execution_count": 11,
   "metadata": {},
   "outputs": [
    {
     "name": "stdout",
     "output_type": "stream",
     "text": [
      "[0. 0. 0. 0. 0. 1. 0. 0. 0. 0.]\n"
     ]
    }
   ],
   "source": [
    "# processing y data set using one hot encoding:label to set of 10 numbers to feed to the neural network in the output layer\n",
    "y_train_one_hot = to_categorical(y_train)\n",
    "y_test_one_hot = to_categorical(y_test)\n",
    "\n",
    "\n",
    "# print the new label\n",
    "print(y_train_one_hot[0])    # 1st element was 5 so one at fifth index"
   ]
  },
  {
   "cell_type": "code",
   "execution_count": 14,
   "metadata": {},
   "outputs": [],
   "source": [
    "# building CNN model\n",
    "model = Sequential()\n",
    "\n",
    "# adding model layers   (60 channels, i am inc it to 120 in 2nd layer to see what will happen, the coder halfed it but i think it should increase as )\n",
    "model.add(Conv2D(60, kernel_size=3, activation='relu', input_shape=(28,28,1)))\n",
    "model.add(Conv2D(120, kernel_size=3, activation='relu'))\n",
    "model.add(Flatten())\n",
    "model.add(Dense(10, activation='softmax'))"
   ]
  },
  {
   "cell_type": "code",
   "execution_count": 15,
   "metadata": {},
   "outputs": [],
   "source": [
    "# compile the model\n",
    "model.compile(optimizer='adam', loss='categorical_crossentropy', metrics=['accuracy'])"
   ]
  },
  {
   "cell_type": "code",
   "execution_count": 17,
   "metadata": {},
   "outputs": [
    {
     "name": "stdout",
     "output_type": "stream",
     "text": [
      "Epoch 1/2\n",
      "1875/1875 [==============================] - 208s 111ms/step - loss: 0.3511 - accuracy: 0.9552 - val_loss: 0.0870 - val_accuracy: 0.9744\n",
      "Epoch 2/2\n",
      "1875/1875 [==============================] - 217s 116ms/step - loss: 0.0592 - accuracy: 0.9819 - val_loss: 0.0980 - val_accuracy: 0.9723\n"
     ]
    }
   ],
   "source": [
    "# model training \n",
    "hist = model.fit(X_train, y_train_one_hot, validation_data=(X_test,y_test_one_hot), epochs=2)"
   ]
  },
  {
   "cell_type": "code",
   "execution_count": 21,
   "metadata": {},
   "outputs": [
    {
     "data": {
      "image/png": "[encoded data removed]",
      "text/plain": [
       "<Figure size 432x288 with 1 Axes>"
      ]
     },
     "metadata": {
      "needs_background": "light"
     },
     "output_type": "display_data"
    }
   ],
   "source": [
    "plt.plot(hist.history['accuracy'])\n",
    "plt.plot(hist.history['val_accuracy'])\n",
    "plt.title('Model Accuracy')\n",
    "plt.ylabel('Accuracy')\n",
    "plt.ylabel('Epochs')\n",
    "plt.legend(['train', 'Val'], loc='upper left')\n",
    "plt.show()"
   ]
  },
  {
   "cell_type": "code",
   "execution_count": 22,
   "metadata": {},
   "outputs": [
    {
     "data": {
      "text/plain": [
       "array([[3.81076148e-08, 4.67399184e-14, 4.34259881e-08, 1.09014778e-07,\n",
       "        3.02278479e-14, 6.57915167e-10, 6.47574142e-18, 9.99999762e-01,\n",
       "        4.02482065e-08, 3.71440351e-10],\n",
       "       [9.11651128e-08, 8.24934232e-10, 9.99998689e-01, 2.61426487e-13,\n",
       "        1.52891124e-14, 1.01200295e-14, 1.13950910e-06, 5.64623851e-16,\n",
       "        2.52484367e-10, 2.63340849e-16],\n",
       "       [1.04267583e-05, 9.95462239e-01, 2.53005273e-05, 3.44897124e-08,\n",
       "        2.69001961e-04, 7.83643645e-06, 3.39166654e-05, 2.41808831e-08,\n",
       "        4.19095019e-03, 2.63673826e-07],\n",
       "       [9.99983907e-01, 1.04237896e-10, 9.52850687e-09, 5.31515912e-13,\n",
       "        3.54160867e-11, 5.93259719e-10, 1.55892267e-05, 5.46715485e-11,\n",
       "        3.48866003e-09, 4.15084770e-07]], dtype=float32)"
      ]
     },
     "execution_count": 22,
     "metadata": {},
     "output_type": "execute_result"
    }
   ],
   "source": [
    "# lets show the predictions for the firrst 4 images in the test set \n",
    "predictions = model.predict(X_test[:4])\n",
    "predictions\n",
    "\n",
    "# each grp show prob of preticting a digit"
   ]
  },
  {
   "cell_type": "code",
   "execution_count": 23,
   "metadata": {},
   "outputs": [
    {
     "name": "stdout",
     "output_type": "stream",
     "text": [
      "[7 2 1 0]\n",
      "[7 2 1 0]\n"
     ]
    }
   ],
   "source": [
    "# print our predictions as number labels for the first 4 images\n",
    "print(np.argmax(predictions, axis=1))\n",
    "# print the actual labels \n",
    "print(y_test[:4])"
   ]
  },
  {
   "cell_type": "code",
   "execution_count": 24,
   "metadata": {},
   "outputs": [
    {
     "data": {
      "image/png": "[encoded data removed]",
      "text/plain": [
       "<Figure size 432x288 with 1 Axes>"
      ]
     },
     "metadata": {
      "needs_background": "light"
     },
     "output_type": "display_data"
    },
    {
     "data": {
      "image/png": "[encoded data removed]",
      "text/plain": [
       "<Figure size 432x288 with 1 Axes>"
      ]
     },
     "metadata": {
      "needs_background": "light"
     },
     "output_type": "display_data"
    },
    {
     "data": {
      "image/png": "[encoded data removed]",
      "text/plain": [
       "<Figure size 432x288 with 1 Axes>"
      ]
     },
     "metadata": {
      "needs_background": "light"
     },
     "output_type": "display_data"
    },
    {
     "data": {
      "image/png": "[encoded data removed]",
      "text/plain": [
       "<Figure size 432x288 with 1 Axes>"
      ]
     },
     "metadata": {
      "needs_background": "light"
     },
     "output_type": "display_data"
    }
   ],
   "source": [
    "# show the first 4 images as pictures \n",
    "for i in range(0,4):\n",
    "    image = X_test[i]\n",
    "    image = np.array(image, dtype='float')\n",
    "    pixels = image.reshape((28,28))\n",
    "    plt.imshow(pixels, cmap='gray')\n",
    "    plt.show()"
   ]
  },
  {
   "cell_type": "markdown",
   "metadata": {},
   "source": [
    "#### Here we can see that we can get a pretty decent accuracy with the application of convolutional neural network. though we can tune the hyper parameters to get better results. One more thing can be dine and that is addition of pooling layer which we reduce the computation time."
   ]
  },
  {
   "cell_type": "code",
   "execution_count": null,
   "metadata": {},
   "outputs": [],
   "source": []
  }
 ],
 "metadata": {
  "kernelspec": {
   "display_name": "Python 3",
   "language": "python",
   "name": "python3"
  },
  "language_info": {
   "codemirror_mode": {
    "name": "ipython",
    "version": 3
   },
   "file_extension": ".py",
   "mimetype": "text/x-python",
   "name": "python",
   "nbconvert_exporter": "python",
   "pygments_lexer": "ipython3",
   "version": "3.7.4"
  }
 },
 "nbformat": 4,
 "nbformat_minor": 2
}
